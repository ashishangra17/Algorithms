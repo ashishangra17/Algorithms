{
 "cells": [
  {
   "cell_type": "markdown",
   "id": "b065bd0a",
   "metadata": {},
   "source": [
    "## Find shortest balanced fragment in a string"
   ]
  },
  {
   "cell_type": "markdown",
   "id": "b1e2e129",
   "metadata": {},
   "source": [
    "### Evaluate the string to check if it is a balanced fragment or not"
   ]
  },
  {
   "cell_type": "code",
   "execution_count": null,
   "id": "8673dca0",
   "metadata": {},
   "outputs": [],
   "source": [
    "def check_fragment(sample_str):\n",
    "    s =1\n",
    "    for i in sample_str:\n",
    "        if(i.upper() in sample_str and i.lower() in sample_str):\n",
    "            s=1\n",
    "        else:\n",
    "            s=-1\n",
    "            return(s)\n",
    "            break        \n",
    "    return s"
   ]
  },
  {
   "cell_type": "markdown",
   "id": "0704cad5",
   "metadata": {},
   "source": [
    "### Find the shortest balanced fragment "
   ]
  },
  {
   "cell_type": "code",
   "execution_count": 36,
   "id": "e5061f35",
   "metadata": {},
   "outputs": [],
   "source": [
    "def min_fragment(sample_str):\n",
    "    min = 201\n",
    "    es = [sample_str[i:j] for i in range((len(sample_str)))\n",
    "          for j in range(i+1, len(sample_str)+1)]\n",
    "    for i in es:\n",
    "        if(check_fragment(i)==1 and min>len(i)):\n",
    "            min = len(i)\n",
    "    if(min==201):\n",
    "        return -1\n",
    "    else:\n",
    "        return min"
   ]
  },
  {
   "cell_type": "markdown",
   "id": "a848a1de",
   "metadata": {},
   "source": [
    "### Test the Solution"
   ]
  },
  {
   "cell_type": "code",
   "execution_count": 37,
   "id": "0e99f604",
   "metadata": {},
   "outputs": [
    {
     "name": "stdout",
     "output_type": "stream",
     "text": [
      "5\n"
     ]
    }
   ],
   "source": [
    "print(min_fragment('azABaabza'))"
   ]
  },
  {
   "cell_type": "code",
   "execution_count": 39,
   "id": "9f3942c4",
   "metadata": {},
   "outputs": [
    {
     "name": "stdout",
     "output_type": "stream",
     "text": [
      "4\n"
     ]
    }
   ],
   "source": [
    "print(min_fragment('azABababZa'))"
   ]
  },
  {
   "cell_type": "code",
   "execution_count": 40,
   "id": "d8b8df63",
   "metadata": {},
   "outputs": [
    {
     "name": "stdout",
     "output_type": "stream",
     "text": [
      "8\n"
     ]
    }
   ],
   "source": [
    "print(min_fragment('AcZCbaBz'))"
   ]
  },
  {
   "cell_type": "code",
   "execution_count": null,
   "id": "15c65be2",
   "metadata": {},
   "outputs": [],
   "source": [
    "print(min_fragment('abcdefghijklmnopqrst'))"
   ]
  }
 ],
 "metadata": {
  "kernelspec": {
   "display_name": "Python 3",
   "language": "python",
   "name": "python3"
  },
  "language_info": {
   "codemirror_mode": {
    "name": "ipython",
    "version": 3
   },
   "file_extension": ".py",
   "mimetype": "text/x-python",
   "name": "python",
   "nbconvert_exporter": "python",
   "pygments_lexer": "ipython3",
   "version": "3.8.8"
  }
 },
 "nbformat": 4,
 "nbformat_minor": 5
}
