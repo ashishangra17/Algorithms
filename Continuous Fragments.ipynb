{
 "cells": [
  {
   "cell_type": "markdown",
   "id": "0c973715",
   "metadata": {},
   "source": [
    "## Find number of continuous fragments in an Array A with sum equal to S"
   ]
  },
  {
   "cell_type": "code",
   "execution_count": 3,
   "id": "e596120d",
   "metadata": {},
   "outputs": [],
   "source": [
    "def solution2(A,S) :\n",
    "    counter = 0\n",
    "    n = len(A)\n",
    "    for i in range(n) :\n",
    "        #print(\"i\",i)\n",
    "        current_sum = A[i]\n",
    "        #print(\"current_sum_out\",current_sum)\n",
    "        ## num_e defines the number of variables to be considered for calculating arithmetic mean.\n",
    "        num_e = 1\n",
    "        #print(\"num_e_out\",num_e)\n",
    "        j = i +1\n",
    "        while j <= n-1 :\n",
    "            #print(\"j\",j)\n",
    "            #print(\"current_sum_IN\",current_sum)\n",
    "            #print(\"num_e_IN\",num_e)\n",
    "            if current_sum/num_e == S :\n",
    "                counter = counter + 1\n",
    "                #break\n",
    "            #if current_sum > S or j == n :\n",
    "                #break\n",
    "            current_sum = current_sum + A[j]\n",
    "            j = j +1\n",
    "            num_e = num_e + 1\n",
    "        # Final counter increase for last variable whenever conditions is positive.\n",
    "        if current_sum/num_e == S :\n",
    "                counter = counter + 1\n",
    "    return counter"
   ]
  },
  {
   "cell_type": "markdown",
   "id": "6686ff12",
   "metadata": {},
   "source": [
    "## Test the Solution\n",
    "\n"
   ]
  },
  {
   "cell_type": "code",
   "execution_count": null,
   "id": "d31eaab9",
   "metadata": {},
   "outputs": [],
   "source": [
    "A= [2,1,3]\n",
    "S = 2\n",
    "print(solution2(A,S))\n",
    "\n",
    "A= [0,4,3,-1]\n",
    "S = 2\n",
    "print(solution2(A,S))"
   ]
  }
 ],
 "metadata": {
  "kernelspec": {
   "display_name": "Python 3",
   "language": "python",
   "name": "python3"
  },
  "language_info": {
   "codemirror_mode": {
    "name": "ipython",
    "version": 3
   },
   "file_extension": ".py",
   "mimetype": "text/x-python",
   "name": "python",
   "nbconvert_exporter": "python",
   "pygments_lexer": "ipython3",
   "version": "3.8.8"
  }
 },
 "nbformat": 4,
 "nbformat_minor": 5
}
